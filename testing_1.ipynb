{
 "cells": [
  {
   "cell_type": "code",
   "execution_count": 1,
   "id": "4a869c57",
   "metadata": {},
   "outputs": [
    {
     "name": "stdout",
     "output_type": "stream",
     "text": [
      "Jupyter environment detected. Enabling Open3D WebVisualizer.\n",
      "[Open3D INFO] WebRTC GUI backend enabled.\n",
      "[Open3D INFO] WebRTCWindowSystem: HTTP handshake server disabled.\n"
     ]
    }
   ],
   "source": [
    "# Imports\n",
    "\n",
    "import open3d as o3d\n",
    "import numpy as np\n",
    "import cv2\n",
    "import numpy as np\n",
    "from ultralytics import YOLO\n",
    "import copy"
   ]
  },
  {
   "cell_type": "code",
   "execution_count": 2,
   "id": "19dea7f7",
   "metadata": {},
   "outputs": [],
   "source": [
    "# Data Path\n",
    "\n",
    "model_data = r\"C:\\Hackathon\\3D bone mapping\\forearm_Bones.glb\"\n",
    "image_data = r\"C:\\Hackathon\\3D bone mapping\\working_code\\test\\test_5.png\""
   ]
  },
  {
   "cell_type": "code",
   "execution_count": 3,
   "id": "c146103c",
   "metadata": {},
   "outputs": [],
   "source": [
    "# Model and Image\n",
    "\n",
    "mesh = o3d.io.read_triangle_mesh(model_data)\n",
    "img = cv2.imread(image_data)"
   ]
  },
  {
   "cell_type": "code",
   "execution_count": 4,
   "id": "f526c8c7",
   "metadata": {},
   "outputs": [
    {
     "data": {
      "text/plain": [
       "TriangleMesh with 485454 points and 970900 triangles."
      ]
     },
     "execution_count": 4,
     "metadata": {},
     "output_type": "execute_result"
    }
   ],
   "source": [
    "# Per-processing Model\n",
    "\n",
    "mesh.remove_duplicated_vertices()\n",
    "mesh.remove_degenerate_triangles()\n",
    "mesh.remove_duplicated_triangles()\n",
    "mesh.remove_non_manifold_edges()\n",
    "mesh.remove_unreferenced_vertices()\n",
    "\n",
    "mesh.scale(1 / np.max(mesh.get_max_bound() - mesh.get_min_bound()), center=mesh.get_center())\n",
    "mesh.translate(-mesh.get_center())\n",
    "mesh.compute_vertex_normals()\n",
    "\n",
    "R1 = mesh.get_rotation_matrix_from_axis_angle([np.pi, 0, 0])\n",
    "R2 = mesh.get_rotation_matrix_from_axis_angle([0, -np.pi / 2, 0])\n",
    "\n",
    "R = R2 @ R1\n",
    "mesh.rotate(R2, center=(0, 0, 0))"
   ]
  },
  {
   "cell_type": "code",
   "execution_count": 5,
   "id": "551a402e",
   "metadata": {},
   "outputs": [
    {
     "name": "stdout",
     "output_type": "stream",
     "text": [
      "Width:  0.2318\n",
      "Height: 1.0000\n",
      "Depth:  0.1647\n",
      "Model center: [ 3.4601e-14  1.0308e-12  6.0746e-13]\n"
     ]
    }
   ],
   "source": [
    "# Bounding Box around model \n",
    "\n",
    "bbox = mesh.get_axis_aligned_bounding_box()\n",
    "bbox.color = (1, 0, 0)\n",
    "\n",
    "min_bound = bbox.get_min_bound()\n",
    "max_bound = bbox.get_max_bound()\n",
    "size = max_bound - min_bound\n",
    "\n",
    "print(f\"Width:  {size[0]:.4f}\")\n",
    "print(f\"Height: {size[1]:.4f}\")\n",
    "print(f\"Depth:  {size[2]:.4f}\")\n",
    "print(\"Model center:\", mesh.get_center())\n",
    "\n",
    "o3d.visualization.draw_geometries([mesh, bbox])"
   ]
  },
  {
   "cell_type": "code",
   "execution_count": 6,
   "id": "d42952f0",
   "metadata": {},
   "outputs": [],
   "source": [
    "# Divide Mesh to make Clusters \n",
    "\n",
    "plane_height, plane_depth = size[1], size[2]\n",
    "plane_thickness = 0.001\n",
    "\n",
    "vertical_plane = o3d.geometry.TriangleMesh.create_box(\n",
    "    width=plane_thickness,\n",
    "    height=plane_height,\n",
    "    depth=plane_depth\n",
    ")\n",
    "\n",
    "vertical_plane.translate((-plane_thickness/2, -plane_height/2, -plane_depth/2))\n",
    "\n",
    "center_x = (min_bound[0] + max_bound[0]) / 2\n",
    "vertical_plane.translate((center_x, 0, 0))\n",
    "\n",
    "angle_from_x = 94.11222884471846\n",
    "tilt_angle = angle_from_x - 90\n",
    "angle_rad = np.deg2rad(-tilt_angle)\n",
    "\n",
    "R = vertical_plane.get_rotation_matrix_from_axis_angle([0, 0, angle_rad])\n",
    "vertical_plane.rotate(R, center=vertical_plane.get_center())\n",
    "\n",
    "shift_amount = -0.015\n",
    "vertical_plane.translate((shift_amount, 0, 0))\n",
    "\n",
    "vertical_plane.paint_uniform_color([1, 0.7, 0.3])\n",
    "\n",
    "o3d.visualization.draw_geometries([mesh, vertical_plane])"
   ]
  },
  {
   "cell_type": "code",
   "execution_count": 7,
   "id": "842102b6",
   "metadata": {},
   "outputs": [],
   "source": [
    "# Create Clusters\n",
    "\n",
    "plane_normal = R @ np.array([1.0, 0.0, 0.0])\n",
    "plane_normal /= np.linalg.norm(plane_normal)\n",
    "\n",
    "plane_center = vertical_plane.get_center()\n",
    "points = np.asarray(mesh.vertices)\n",
    "\n",
    "signed_distances = np.dot(points - plane_center, plane_normal)\n",
    "\n",
    "mask_above = signed_distances > 0\n",
    "mask_below = signed_distances <= 0\n",
    "\n",
    "mesh_ulna = mesh.select_by_index(np.where(mask_above)[0].tolist())\n",
    "mesh_radius = mesh.select_by_index(np.where(mask_below)[0].tolist())\n",
    "\n",
    "mesh_ulna.paint_uniform_color([0.2, 0.8, 1.0])\n",
    "mesh_radius.paint_uniform_color([1.0, 0.4, 0.4])\n",
    "\n",
    "o3d.visualization.draw_geometries([mesh_radius, mesh_ulna])"
   ]
  },
  {
   "cell_type": "code",
   "execution_count": null,
   "id": "154da33e",
   "metadata": {},
   "outputs": [],
   "source": []
  }
 ],
 "metadata": {
  "kernelspec": {
   "display_name": "Python 3",
   "language": "python",
   "name": "python3"
  },
  "language_info": {
   "codemirror_mode": {
    "name": "ipython",
    "version": 3
   },
   "file_extension": ".py",
   "mimetype": "text/x-python",
   "name": "python",
   "nbconvert_exporter": "python",
   "pygments_lexer": "ipython3",
   "version": "3.12.10"
  }
 },
 "nbformat": 4,
 "nbformat_minor": 5
}
