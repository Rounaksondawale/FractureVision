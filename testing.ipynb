{
 "cells": [
  {
   "cell_type": "code",
   "execution_count": 317,
   "id": "9512c409",
   "metadata": {},
   "outputs": [],
   "source": [
    "# Imports\n",
    "\n",
    "import open3d as o3d\n",
    "import numpy as np\n",
    "import cv2\n",
    "import numpy as np \n",
    "from ultralytics import YOLO\n",
    "import copy"
   ]
  },
  {
   "cell_type": "code",
   "execution_count": 318,
   "id": "86b14a03",
   "metadata": {},
   "outputs": [],
   "source": [
    "# Data Path\n",
    "\n",
    "model_data = r\"C:\\Hackathon\\3D bone mapping\\forearm_Bones.glb\"\n",
    "image_data = r\"C:\\Hackathon\\3D bone mapping\\working_code\\test\\test_5.png\""
   ]
  },
  {
   "cell_type": "code",
   "execution_count": 319,
   "id": "99da21ad",
   "metadata": {},
   "outputs": [],
   "source": [
    "# Model and Image\n",
    "\n",
    "mesh = o3d.io.read_triangle_mesh(model_data)\n",
    "img = cv2.imread(image_data)"
   ]
  },
  {
   "cell_type": "code",
   "execution_count": 320,
   "id": "0968736b",
   "metadata": {},
   "outputs": [
    {
     "data": {
      "text/plain": [
       "TriangleMesh with 485454 points and 970900 triangles."
      ]
     },
     "execution_count": 320,
     "metadata": {},
     "output_type": "execute_result"
    }
   ],
   "source": [
    "# Per-processing Model\n",
    "\n",
    "mesh.remove_duplicated_vertices()\n",
    "mesh.remove_degenerate_triangles()\n",
    "mesh.remove_duplicated_triangles()\n",
    "mesh.remove_non_manifold_edges()\n",
    "mesh.remove_unreferenced_vertices()\n",
    "\n",
    "mesh.scale(1 / np.max(mesh.get_max_bound() - mesh.get_min_bound()), center=mesh.get_center())\n",
    "mesh.translate(-mesh.get_center())\n",
    "mesh.compute_vertex_normals()\n",
    "\n",
    "R1 = mesh.get_rotation_matrix_from_axis_angle([np.pi, 0, 0])\n",
    "R2 = mesh.get_rotation_matrix_from_axis_angle([0, -np.pi / 2, 0])\n",
    "\n",
    "R = R2 @ R1\n",
    "mesh.rotate(R2, center=(0, 0, 0))"
   ]
  },
  {
   "cell_type": "code",
   "execution_count": 321,
   "id": "7d315c36",
   "metadata": {},
   "outputs": [
    {
     "name": "stdout",
     "output_type": "stream",
     "text": [
      "Width:  0.2318\n",
      "Height: 1.0000\n",
      "Depth:  0.1647\n",
      "Model center: [ 3.4601e-14  1.0308e-12  6.0746e-13]\n"
     ]
    }
   ],
   "source": [
    "# Bounding Box around model \n",
    "\n",
    "bbox = mesh.get_axis_aligned_bounding_box()\n",
    "bbox.color = (1, 0, 0)\n",
    "\n",
    "min_bound = bbox.get_min_bound()\n",
    "max_bound = bbox.get_max_bound()\n",
    "size = max_bound - min_bound\n",
    "\n",
    "print(f\"Width:  {size[0]:.4f}\")\n",
    "print(f\"Height: {size[1]:.4f}\")\n",
    "print(f\"Depth:  {size[2]:.4f}\")\n",
    "print(\"Model center:\", mesh.get_center())\n",
    "\n",
    "o3d.visualization.draw_geometries([mesh, bbox])"
   ]
  },
  {
   "cell_type": "code",
   "execution_count": 322,
   "id": "88b29cde",
   "metadata": {},
   "outputs": [],
   "source": [
    "# Divide Mesh to make Clusters \n",
    "\n",
    "plane_height, plane_depth = size[1], size[2]\n",
    "plane_thickness = 0.001\n",
    "\n",
    "vertical_plane = o3d.geometry.TriangleMesh.create_box(\n",
    "    width=plane_thickness,\n",
    "    height=plane_height,\n",
    "    depth=plane_depth\n",
    ")\n",
    "\n",
    "vertical_plane.translate((-plane_thickness/2, -plane_height/2, -plane_depth/2))\n",
    "\n",
    "center_x = (min_bound[0] + max_bound[0]) / 2\n",
    "vertical_plane.translate((center_x, 0, 0))\n",
    "\n",
    "angle_from_x = 94.11222884471846\n",
    "tilt_angle = angle_from_x - 90\n",
    "angle_rad = np.deg2rad(-tilt_angle)\n",
    "\n",
    "R = vertical_plane.get_rotation_matrix_from_axis_angle([0, 0, angle_rad])\n",
    "vertical_plane.rotate(R, center=vertical_plane.get_center())\n",
    "\n",
    "shift_amount = -0.015\n",
    "vertical_plane.translate((shift_amount, 0, 0))\n",
    "\n",
    "vertical_plane.paint_uniform_color([1, 0.7, 0.3])\n",
    "\n",
    "o3d.visualization.draw_geometries([mesh, vertical_plane])\n"
   ]
  },
  {
   "cell_type": "code",
   "execution_count": 323,
   "id": "64323e8e",
   "metadata": {},
   "outputs": [],
   "source": [
    "# Create Clusters\n",
    "\n",
    "plane_normal = R @ np.array([1.0, 0.0, 0.0])\n",
    "plane_normal /= np.linalg.norm(plane_normal)\n",
    "\n",
    "plane_center = vertical_plane.get_center()\n",
    "points = np.asarray(mesh.vertices)\n",
    "\n",
    "signed_distances = np.dot(points - plane_center, plane_normal)\n",
    "\n",
    "mask_above = signed_distances > 0\n",
    "mask_below = signed_distances <= 0\n",
    "\n",
    "mesh_ulna = mesh.select_by_index(np.where(mask_above)[0].tolist())\n",
    "mesh_radius = mesh.select_by_index(np.where(mask_below)[0].tolist())\n",
    "\n",
    "mesh_ulna.paint_uniform_color([0.2, 0.8, 1.0])\n",
    "mesh_radius.paint_uniform_color([1.0, 0.4, 0.4])\n",
    "\n",
    "o3d.visualization.draw_geometries([mesh_radius, mesh_ulna])"
   ]
  },
  {
   "cell_type": "code",
   "execution_count": 324,
   "id": "e0227a37",
   "metadata": {},
   "outputs": [],
   "source": [
    "# Model Landmarks \n",
    "\n",
    "model_landmarks = {\n",
    "    \"ulna_head\": (0.058, 0.35, 0.0),\n",
    "    \"ulna_tail\": (0.0028, -0.43, 0.0),\n",
    "    \"radius_head\": (-0.013, 0.35, 0.0),\n",
    "    \"radius_tail\": (-0.07, -0.42, 0.0)\n",
    "}"
   ]
  },
  {
   "cell_type": "code",
   "execution_count": 325,
   "id": "e3fcad3f",
   "metadata": {},
   "outputs": [],
   "source": [
    "# Landmarks Marking Funcation\n",
    "\n",
    "def draw_cylinder_between(p1, p2, radius=0.01, color=[1, 0, 0]):\n",
    "    p1, p2 = np.array(p1), np.array(p2)\n",
    "    axis = p2 - p1\n",
    "    height = np.linalg.norm(axis)\n",
    "    midpoint = (p1 + p2) / 2\n",
    "\n",
    "    cylinder = o3d.geometry.TriangleMesh.create_cylinder(radius=radius, height=height)\n",
    "    cylinder.paint_uniform_color(color)\n",
    "    cylinder.compute_vertex_normals()\n",
    "\n",
    "    z_axis = np.array([0, 0, 1])\n",
    "    axis_norm = axis / np.linalg.norm(axis)\n",
    "    v = np.cross(z_axis, axis_norm)\n",
    "    c = np.dot(z_axis, axis_norm)\n",
    "\n",
    "    if np.linalg.norm(v) < 1e-6:\n",
    "        R = np.eye(3)\n",
    "    else:\n",
    "        vx = np.array([\n",
    "            [0, -v[2], v[1]],\n",
    "            [v[2], 0, -v[0]],\n",
    "            [-v[1], v[0], 0]\n",
    "        ])\n",
    "        R = np.eye(3) + vx + vx @ vx * ((1 - c) / (np.linalg.norm(v) ** 2))\n",
    "\n",
    "    cylinder.rotate(R, center=(0, 0, 0))\n",
    "    cylinder.translate(midpoint)\n",
    "    return cylinder"
   ]
  },
  {
   "cell_type": "code",
   "execution_count": 326,
   "id": "aecc2e2a",
   "metadata": {},
   "outputs": [],
   "source": [
    "# Landmark Marking\n",
    "\n",
    "ulna_line = draw_cylinder_between(model_landmarks[\"ulna_head\"], model_landmarks[\"ulna_tail\"], radius=0.01, color=[1, 0, 0])\n",
    "radius_line = draw_cylinder_between(model_landmarks[\"radius_head\"], model_landmarks[\"radius_tail\"], radius=0.01, color=[0, 1, 0])"
   ]
  },
  {
   "cell_type": "code",
   "execution_count": 327,
   "id": "338d0225",
   "metadata": {},
   "outputs": [],
   "source": [
    "# Visualize Model with Landmarks \n",
    "\n",
    "o3d.visualization.draw_geometries([mesh, ulna_line, radius_line])"
   ]
  },
  {
   "cell_type": "code",
   "execution_count": 328,
   "id": "70408e0f",
   "metadata": {},
   "outputs": [],
   "source": [
    "# Display Image \n",
    "\n",
    "cv2.imshow(\"X-ray\", img)\n",
    "cv2.waitKey(0)\n",
    "cv2.destroyAllWindows() "
   ]
  },
  {
   "cell_type": "code",
   "execution_count": 329,
   "id": "ac04b12f",
   "metadata": {},
   "outputs": [
    {
     "name": "stdout",
     "output_type": "stream",
     "text": [
      "\n",
      "--> Centered Coordinates (origin at image center):\n",
      "ulna head → (-8, 351)\n",
      "ulna tail → (7, -431)\n",
      "radius head → (-67, 287)\n",
      "radius tail → (-58, -443)\n"
     ]
    }
   ],
   "source": [
    "# Get Pixel Coordintes ( Manually )\n",
    "\n",
    "clone = img.copy()\n",
    "\n",
    "labels = ['ulna head', 'ulna tail', 'radius head', 'radius tail']\n",
    "points = []\n",
    "index = 0\n",
    "Xray_landmark = {}\n",
    "\n",
    "def click_landmarks(event, x, y, flags, param):\n",
    "    global index, Xray_landmark\n",
    "\n",
    "    if event == cv2.EVENT_LBUTTONDOWN and index < len(labels):\n",
    "        label = labels[index]\n",
    "        points.append((x, y))\n",
    "        Xray_landmark[label] = (x, y)\n",
    "\n",
    "        cv2.circle(clone, (x, y), 5, (0, 0, 255), -1)\n",
    "        cv2.putText(clone, label, (x + 5, y - 5), cv2.FONT_HERSHEY_SIMPLEX, 0.6, (255, 0, 0), 2)\n",
    "        index += 1\n",
    "        cv2.imshow(\"Image\", clone)\n",
    "\n",
    "        if index == len(labels):\n",
    "            h, w = clone.shape[:2]\n",
    "            cx, cy = w // 2, h // 2\n",
    "\n",
    "            for k in Xray_landmark:\n",
    "                x, y = Xray_landmark[k]\n",
    "                Xray_landmark[k] = (x - cx, cy - y)\n",
    "\n",
    "            print(\"\\n--> Centered Coordinates (origin at image center):\")\n",
    "            for key, val in Xray_landmark.items():\n",
    "                print(f\"{key} → {val}\")\n",
    "\n",
    "cv2.imshow(\"Image\", clone)\n",
    "cv2.setMouseCallback(\"Image\", click_landmarks)\n",
    "cv2.waitKey(0)\n",
    "cv2.destroyAllWindows()"
   ]
  },
  {
   "cell_type": "code",
   "execution_count": 330,
   "id": "7f03680c",
   "metadata": {},
   "outputs": [
    {
     "name": "stdout",
     "output_type": "stream",
     "text": [
      "\n",
      "--> Centered Coordinates (origin at image center):\n",
      "ulna break → (56, -30)\n",
      "radius break → (-22, 69)\n"
     ]
    }
   ],
   "source": [
    "labels = ['ulna break', 'radius break']\n",
    "points = []\n",
    "index = 0\n",
    "Xray_breaks = {}\n",
    "\n",
    "def click_landmarks(event, x, y, flags, param):\n",
    "    global index, Xray_breaks\n",
    "\n",
    "    if event == cv2.EVENT_LBUTTONDOWN and index < len(labels):\n",
    "        label = labels[index]\n",
    "        points.append((x, y))\n",
    "        Xray_breaks[label] = (x, y)\n",
    "\n",
    "        cv2.circle(clone, (x, y), 5, (0, 0, 255), -1)\n",
    "        cv2.putText(clone, label, (x + 5, y - 5), cv2.FONT_HERSHEY_SIMPLEX, 0.6, (255, 0, 0), 2)\n",
    "        index += 1\n",
    "        cv2.imshow(\"Image\", clone)\n",
    "\n",
    "        if index == len(labels):\n",
    "            h, w = clone.shape[:2]\n",
    "            cx, cy = w // 2, h // 2\n",
    "\n",
    "            for k in Xray_breaks:\n",
    "                x, y = Xray_breaks[k]\n",
    "                Xray_breaks[k] = (x - cx, cy - y)\n",
    "\n",
    "            print(\"\\n--> Centered Coordinates (origin at image center):\")\n",
    "            for key, val in Xray_breaks.items():\n",
    "                print(f\"{key} → {val}\")\n",
    "\n",
    "cv2.imshow(\"Image\", clone)\n",
    "cv2.setMouseCallback(\"Image\", click_landmarks)\n",
    "cv2.waitKey(0)\n",
    "cv2.destroyAllWindows()"
   ]
  },
  {
   "cell_type": "code",
   "execution_count": 331,
   "id": "3c35e4f4",
   "metadata": {},
   "outputs": [
    {
     "name": "stdout",
     "output_type": "stream",
     "text": [
      "\n",
      "0: 640x256 2 breaks, 142.2ms\n",
      "Speed: 4.5ms preprocess, 142.2ms inference, 1.2ms postprocess per image at shape (1, 3, 640, 256)\n"
     ]
    }
   ],
   "source": [
    "# Load YOLO Model \n",
    "\n",
    "model = YOLO(r\"C:\\Hackathon\\3D bone mapping\\working_code\\best.pt\")\n",
    "results = model(img)\n",
    "\n",
    "results[0].show()\n"
   ]
  },
  {
   "cell_type": "code",
   "execution_count": 332,
   "id": "d8de5a2a",
   "metadata": {},
   "outputs": [],
   "source": [
    "# Draw Bone Line in Image\n",
    "\n",
    "h, w = img.shape[:2]\n",
    "cx, cy = w // 2, h // 2\n",
    "\n",
    "ulna_head     = (int(Xray_landmark['ulna head'][0] + cx), int(cy - Xray_landmark['ulna head'][1]))\n",
    "ulna_tail     = (int(Xray_landmark['ulna tail'][0] + cx), int(cy - Xray_landmark['ulna tail'][1]))\n",
    "radius_head   = (int(Xray_landmark['radius head'][0] + cx), int(cy - Xray_landmark['radius head'][1]))\n",
    "radius_tail   = (int(Xray_landmark['radius tail'][0] + cx), int(cy - Xray_landmark['radius tail'][1]))\n",
    "\n",
    "cv2.line(img, ulna_head, ulna_tail, (0, 0, 200), 5)\n",
    "cv2.line(img, radius_head, radius_tail, (0, 200, 0), 5)\n",
    "\n",
    "cv2.imshow(\"Lines\", img)\n",
    "cv2.waitKey(0)\n",
    "cv2.destroyAllWindows()"
   ]
  },
  {
   "cell_type": "code",
   "execution_count": 353,
   "id": "56cd0c00",
   "metadata": {},
   "outputs": [],
   "source": [
    "import math\n",
    "\n",
    "def angle_from_negative_x(p1, p2, center=(0, 0)):\n",
    "\n",
    "    # Shift points to origin (center)\n",
    "    x1 = p1[0] - center[0]\n",
    "    y1 = p1[1] - center[1]\n",
    "    x2 = p2[0] - center[0]\n",
    "    y2 = p2[1] - center[1]\n",
    "    \n",
    "    # Direction vector (p1 → p2)\n",
    "    dx = x2 - x1\n",
    "    dy = y2 - y1\n",
    "    \n",
    "    # Angle from +X-axis (standard atan2)\n",
    "    angle_rad = math.atan2(dy, dx)\n",
    "    angle_deg = math.degrees(angle_rad)\n",
    "    \n",
    "    # Convert to 0°-360° range (measured from +X)\n",
    "    angle_deg = angle_deg % 360\n",
    "    \n",
    "    # Adjust to measure from -X-axis (clockwise)\n",
    "    angle_from_neg_x = (angle_deg - 180) % 360\n",
    "\n",
    "    \n",
    "    if angle_from_neg_x <= 90:\n",
    "        return -(90 - angle_from_neg_x)\n",
    "    \n",
    "    elif 90 <= angle_from_neg_x < 180:\n",
    "        return   (angle_from_neg_x - 90)\n",
    "    \n",
    "    elif 180 <= angle_from_neg_x < 270:\n",
    "        return (270 - angle_from_neg_x)\n",
    "    \n",
    "    elif angle_from_neg_x > 360:\n",
    "        return (360 - angle_from_neg_x)\n"
   ]
  },
  {
   "cell_type": "code",
   "execution_count": 354,
   "id": "beaeeaac",
   "metadata": {},
   "outputs": [],
   "source": [
    "def get_split_ratio(point_top, point_bottom, split_point):\n",
    "    \n",
    "    y_top = point_top[1]\n",
    "    y_bottom = point_bottom[1]\n",
    "    y_split = split_point[1]\n",
    "\n",
    "    if y_top < y_bottom:\n",
    "        y_top, y_bottom = y_bottom, y_top\n",
    "\n",
    "    if y_split == 0:\n",
    "        y_split = 1e-5\n",
    "\n",
    "    total_height = y_top + y_bottom\n",
    "    split_ratio = total_height / y_split\n",
    "\n",
    "    return split_ratio\n"
   ]
  },
  {
   "cell_type": "code",
   "execution_count": 355,
   "id": "f6e90971",
   "metadata": {},
   "outputs": [],
   "source": [
    "def create_angle_mesh(mesh, angles, split_ratio):\n",
    "\n",
    "    vertices = np.asarray(mesh.vertices)\n",
    "    triangles = np.asarray(mesh.triangles)\n",
    "\n",
    "    mid_y = (vertices[:, 1].min() + vertices[:, 1].max()) / split_ratio\n",
    "\n",
    "    top_mask = vertices[:, 1] >= mid_y\n",
    "    top_indices = np.where(top_mask)[0]\n",
    "\n",
    "    index_map_top = -np.ones(len(vertices), dtype=int)\n",
    "    index_map_top[top_indices] = np.arange(len(top_indices))\n",
    "\n",
    "    top_triangle_mask = np.all(top_mask[triangles], axis=1)\n",
    "    top_triangles = triangles[top_triangle_mask]\n",
    "    mapped_top_triangles = index_map_top[top_triangles]\n",
    "\n",
    "    top_vertices = np.copy(vertices[top_indices])\n",
    "\n",
    "    angle_rad_top = np.radians(angles[0])\n",
    "    R_top = mesh.get_rotation_matrix_from_axis_angle([0, 0, angle_rad_top])\n",
    "\n",
    "    center_top = np.array([\n",
    "        top_vertices[:, 0].mean(),\n",
    "        mid_y,\n",
    "        top_vertices[:, 2].mean()\n",
    "    ])\n",
    "\n",
    "    rotated_top_vertices = (R_top @ (top_vertices - center_top).T).T + center_top\n",
    "\n",
    "    rotated_top_mesh = o3d.geometry.TriangleMesh()\n",
    "    rotated_top_mesh.vertices = o3d.utility.Vector3dVector(rotated_top_vertices)\n",
    "    rotated_top_mesh.triangles = o3d.utility.Vector3iVector(mapped_top_triangles)\n",
    "    rotated_top_mesh.compute_vertex_normals()\n",
    "\n",
    "    bottom_mask = vertices[:, 1] < mid_y\n",
    "    bottom_indices = np.where(bottom_mask)[0]\n",
    "\n",
    "    index_map_bottom = -np.ones(len(vertices), dtype=int)\n",
    "    index_map_bottom[bottom_indices] = np.arange(len(bottom_indices))\n",
    "\n",
    "    bottom_triangle_mask = np.all(bottom_mask[triangles], axis=1)\n",
    "    bottom_triangles = triangles[bottom_triangle_mask]\n",
    "    mapped_bottom_triangles = index_map_bottom[bottom_triangles]\n",
    "\n",
    "    bottom_vertices = np.copy(vertices[bottom_indices])\n",
    "\n",
    "    angle_rad_bottom = -1 * np.radians(angles[1])\n",
    "    R_bottom = mesh.get_rotation_matrix_from_axis_angle([0, 0, angle_rad_bottom])\n",
    "\n",
    "    center_bottom = np.array([\n",
    "        bottom_vertices[:, 0].mean(),\n",
    "        mid_y,\n",
    "        bottom_vertices[:, 2].mean()\n",
    "    ])\n",
    "\n",
    "    rotated_bottom_vertices = (R_bottom @ (bottom_vertices - center_bottom).T).T + center_bottom\n",
    "\n",
    "    rotated_bottom_mesh = o3d.geometry.TriangleMesh()\n",
    "    rotated_bottom_mesh.vertices = o3d.utility.Vector3dVector(rotated_bottom_vertices)\n",
    "    rotated_bottom_mesh.triangles = o3d.utility.Vector3iVector(mapped_bottom_triangles)\n",
    "    rotated_bottom_mesh.compute_vertex_normals()\n",
    "\n",
    "    final_mesh = rotated_top_mesh + rotated_bottom_mesh\n",
    "    \n",
    "    return final_mesh"
   ]
  },
  {
   "cell_type": "code",
   "execution_count": 356,
   "id": "a1f59c26",
   "metadata": {},
   "outputs": [],
   "source": [
    "ulna_angles = []\n",
    "\n",
    "ulna_angles.append(angle_from_negative_x(Xray_landmark['ulna head'], Xray_breaks['ulna break']))\n",
    "ulna_angles.append(angle_from_negative_x(Xray_landmark['ulna tail'], Xray_breaks['ulna break']))"
   ]
  },
  {
   "cell_type": "code",
   "execution_count": 357,
   "id": "20ffabcb",
   "metadata": {},
   "outputs": [
    {
     "name": "stdout",
     "output_type": "stream",
     "text": [
      "[9.535465716606268, 6.966692522330845]\n",
      "2.6666666666666665\n"
     ]
    }
   ],
   "source": [
    "print(ulna_angles)\n",
    "print(get_split_ratio(Xray_landmark['ulna head'], Xray_landmark['ulna tail'], Xray_breaks['ulna break']))"
   ]
  },
  {
   "cell_type": "code",
   "execution_count": 358,
   "id": "cf97b2ab",
   "metadata": {},
   "outputs": [],
   "source": [
    "radius_angles = []\n",
    "\n",
    "radius_angles.append(angle_from_negative_x(Xray_landmark['radius head'], Xray_breaks['radius break']))\n",
    "radius_angles.append(angle_from_negative_x(Xray_landmark['radius tail'], Xray_breaks['radius break']))"
   ]
  },
  {
   "cell_type": "code",
   "execution_count": 359,
   "id": "6adf5c71",
   "metadata": {},
   "outputs": [
    {
     "name": "stdout",
     "output_type": "stream",
     "text": [
      "[11.663294034863839, 4.021990177020086]\n",
      "-2.260869565217391\n"
     ]
    }
   ],
   "source": [
    "print(radius_angles)\n",
    "print(get_split_ratio(Xray_landmark['radius head'], Xray_landmark['radius tail'], Xray_breaks['radius break']))"
   ]
  },
  {
   "cell_type": "code",
   "execution_count": 360,
   "id": "135333cf",
   "metadata": {},
   "outputs": [],
   "source": [
    "break_ulna = create_angle_mesh(mesh_ulna, ulna_angles, get_split_ratio(Xray_landmark['ulna head'], Xray_landmark['ulna tail'], Xray_breaks['ulna break']))"
   ]
  },
  {
   "cell_type": "code",
   "execution_count": 361,
   "id": "651dc5f5",
   "metadata": {},
   "outputs": [],
   "source": [
    "break_radius = create_angle_mesh(mesh_radius, radius_angles, get_split_ratio(Xray_landmark['radius head'], Xray_landmark['radius tail'], Xray_breaks['radius break']))"
   ]
  },
  {
   "cell_type": "code",
   "execution_count": 362,
   "id": "713a8fb0",
   "metadata": {},
   "outputs": [],
   "source": [
    "o3d.visualization.draw_geometries([break_radius, break_ulna])"
   ]
  },
  {
   "cell_type": "code",
   "execution_count": null,
   "id": "79711345",
   "metadata": {},
   "outputs": [],
   "source": []
  }
 ],
 "metadata": {
  "kernelspec": {
   "display_name": "Python 3",
   "language": "python",
   "name": "python3"
  },
  "language_info": {
   "codemirror_mode": {
    "name": "ipython",
    "version": 3
   },
   "file_extension": ".py",
   "mimetype": "text/x-python",
   "name": "python",
   "nbconvert_exporter": "python",
   "pygments_lexer": "ipython3",
   "version": "3.12.10"
  }
 },
 "nbformat": 4,
 "nbformat_minor": 5
}
